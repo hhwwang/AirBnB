{
 "cells": [
  {
   "cell_type": "code",
   "execution_count": 135,
   "metadata": {},
   "outputs": [],
   "source": [
    "import pandas as pd\n",
    "import numpy as np\n",
    "\n",
    "import matplotlib.pyplot as plt\n",
    "%matplotlib inline\n",
    "import seaborn as sns\n",
    "\n",
    "from sklearn.impute import SimpleImputer\n",
    "from sklearn.preprocessing import OneHotEncoder\n",
    "from sklearn.compose import ColumnTransformer\n",
    "from sklearn.pipeline import Pipeline\n",
    "from sklearn.preprocessing import StandardScaler\n",
    "from sklearn.decomposition import PCA"
   ]
  },
  {
   "cell_type": "code",
   "execution_count": 136,
   "metadata": {},
   "outputs": [
    {
     "data": {
      "text/html": [
       "<div>\n",
       "<style scoped>\n",
       "    .dataframe tbody tr th:only-of-type {\n",
       "        vertical-align: middle;\n",
       "    }\n",
       "\n",
       "    .dataframe tbody tr th {\n",
       "        vertical-align: top;\n",
       "    }\n",
       "\n",
       "    .dataframe thead th {\n",
       "        text-align: right;\n",
       "    }\n",
       "</style>\n",
       "<table border=\"1\" class=\"dataframe\">\n",
       "  <thead>\n",
       "    <tr style=\"text-align: right;\">\n",
       "      <th></th>\n",
       "      <th>host_is_superhost</th>\n",
       "      <th>host_identity_verified</th>\n",
       "      <th>latitude</th>\n",
       "      <th>longitude</th>\n",
       "      <th>property_type</th>\n",
       "      <th>room_type</th>\n",
       "      <th>accommodates</th>\n",
       "      <th>bathrooms</th>\n",
       "      <th>bedrooms</th>\n",
       "      <th>beds</th>\n",
       "      <th>price</th>\n",
       "      <th>security_deposit</th>\n",
       "      <th>cleaning_fee</th>\n",
       "      <th>extra_people</th>\n",
       "      <th>minimum_nights</th>\n",
       "      <th>maximum_nights</th>\n",
       "      <th>availability_30</th>\n",
       "      <th>availability_365</th>\n",
       "      <th>number_of_reviews</th>\n",
       "      <th>review_scores_rating</th>\n",
       "      <th>instant_bookable</th>\n",
       "      <th>cancellation_policy</th>\n",
       "      <th>zipcode_cleaned</th>\n",
       "      <th>neighbourhood_listing_total</th>\n",
       "      <th>amenities_score</th>\n",
       "    </tr>\n",
       "  </thead>\n",
       "  <tbody>\n",
       "    <tr>\n",
       "      <td>0</td>\n",
       "      <td>f</td>\n",
       "      <td>t</td>\n",
       "      <td>43.64617</td>\n",
       "      <td>-79.42451</td>\n",
       "      <td>House</td>\n",
       "      <td>Entire home/apt</td>\n",
       "      <td>10</td>\n",
       "      <td>3.0</td>\n",
       "      <td>5.0</td>\n",
       "      <td>7.0</td>\n",
       "      <td>469.0</td>\n",
       "      <td>1000.0</td>\n",
       "      <td>150.0</td>\n",
       "      <td>0.0</td>\n",
       "      <td>4</td>\n",
       "      <td>730</td>\n",
       "      <td>0</td>\n",
       "      <td>0</td>\n",
       "      <td>7</td>\n",
       "      <td>100.0</td>\n",
       "      <td>f</td>\n",
       "      <td>strict_14_with_grace_period</td>\n",
       "      <td>M6</td>\n",
       "      <td>484</td>\n",
       "      <td>5.0</td>\n",
       "    </tr>\n",
       "    <tr>\n",
       "      <td>1</td>\n",
       "      <td>f</td>\n",
       "      <td>f</td>\n",
       "      <td>43.64105</td>\n",
       "      <td>-79.37628</td>\n",
       "      <td>Apartment</td>\n",
       "      <td>Private room</td>\n",
       "      <td>2</td>\n",
       "      <td>1.5</td>\n",
       "      <td>1.0</td>\n",
       "      <td>1.0</td>\n",
       "      <td>99.0</td>\n",
       "      <td>2651.0</td>\n",
       "      <td>NaN</td>\n",
       "      <td>0.0</td>\n",
       "      <td>180</td>\n",
       "      <td>365</td>\n",
       "      <td>0</td>\n",
       "      <td>0</td>\n",
       "      <td>169</td>\n",
       "      <td>97.0</td>\n",
       "      <td>t</td>\n",
       "      <td>strict_14_with_grace_period</td>\n",
       "      <td>M5</td>\n",
       "      <td>4241</td>\n",
       "      <td>6.0</td>\n",
       "    </tr>\n",
       "  </tbody>\n",
       "</table>\n",
       "</div>"
      ],
      "text/plain": [
       "  host_is_superhost host_identity_verified  latitude  longitude property_type  \\\n",
       "0                 f                      t  43.64617  -79.42451         House   \n",
       "1                 f                      f  43.64105  -79.37628     Apartment   \n",
       "\n",
       "         room_type  accommodates  bathrooms  bedrooms  beds  price  \\\n",
       "0  Entire home/apt            10        3.0       5.0   7.0  469.0   \n",
       "1     Private room             2        1.5       1.0   1.0   99.0   \n",
       "\n",
       "   security_deposit  cleaning_fee  extra_people  minimum_nights  \\\n",
       "0            1000.0         150.0           0.0               4   \n",
       "1            2651.0           NaN           0.0             180   \n",
       "\n",
       "   maximum_nights  availability_30  availability_365  number_of_reviews  \\\n",
       "0             730                0                 0                  7   \n",
       "1             365                0                 0                169   \n",
       "\n",
       "   review_scores_rating instant_bookable          cancellation_policy  \\\n",
       "0                 100.0                f  strict_14_with_grace_period   \n",
       "1                  97.0                t  strict_14_with_grace_period   \n",
       "\n",
       "  zipcode_cleaned  neighbourhood_listing_total  amenities_score  \n",
       "0              M6                          484              5.0  \n",
       "1              M5                         4241              6.0  "
      ]
     },
     "execution_count": 136,
     "metadata": {},
     "output_type": "execute_result"
    }
   ],
   "source": [
    "listings = pd.read_csv('listings_cleaned.csv',index_col = 0)\n",
    "pd.set_option('display.max_columns', None)\n",
    "listings.head(2)"
   ]
  },
  {
   "cell_type": "code",
   "execution_count": 137,
   "metadata": {},
   "outputs": [
    {
     "data": {
      "text/plain": [
       "array(['M6', 'M5', 'M4', 'M1', 'M3', 'M8', 'M2', 'M9'], dtype=object)"
      ]
     },
     "execution_count": 137,
     "metadata": {},
     "output_type": "execute_result"
    }
   ],
   "source": [
    "listings['zipcode_cleaned'].unique()"
   ]
  },
  {
   "cell_type": "code",
   "execution_count": 138,
   "metadata": {},
   "outputs": [
    {
     "name": "stdout",
     "output_type": "stream",
     "text": [
      "<class 'pandas.core.frame.DataFrame'>\n",
      "Int64Index: 22531 entries, 0 to 23397\n",
      "Data columns (total 25 columns):\n",
      "host_is_superhost              22531 non-null object\n",
      "host_identity_verified         22531 non-null object\n",
      "latitude                       22531 non-null float64\n",
      "longitude                      22531 non-null float64\n",
      "property_type                  22531 non-null object\n",
      "room_type                      22531 non-null object\n",
      "accommodates                   22531 non-null int64\n",
      "bathrooms                      22525 non-null float64\n",
      "bedrooms                       22507 non-null float64\n",
      "beds                           22389 non-null float64\n",
      "price                          22531 non-null float64\n",
      "security_deposit               22531 non-null float64\n",
      "cleaning_fee                   19143 non-null float64\n",
      "extra_people                   22531 non-null float64\n",
      "minimum_nights                 22531 non-null int64\n",
      "maximum_nights                 22531 non-null int64\n",
      "availability_30                22531 non-null int64\n",
      "availability_365               22531 non-null int64\n",
      "number_of_reviews              22531 non-null int64\n",
      "review_scores_rating           18120 non-null float64\n",
      "instant_bookable               22531 non-null object\n",
      "cancellation_policy            22531 non-null object\n",
      "zipcode_cleaned                22531 non-null object\n",
      "neighbourhood_listing_total    22531 non-null int64\n",
      "amenities_score                21680 non-null float64\n",
      "dtypes: float64(11), int64(7), object(7)\n",
      "memory usage: 4.5+ MB\n"
     ]
    }
   ],
   "source": [
    "listings.info()"
   ]
  },
  {
   "cell_type": "code",
   "execution_count": 139,
   "metadata": {},
   "outputs": [],
   "source": [
    "target = ['price']\n",
    "\n",
    "cat_features = ['host_is_superhost', 'host_identity_verified',\n",
    "               'property_type', 'room_type', 'instant_bookable', \n",
    "                'cancellation_policy', 'zipcode_cleaned' ]  \n",
    "\n",
    "num_features = ['latitude', 'longitude', 'accommodates', \n",
    "                'bathrooms', 'bedrooms', 'beds',\n",
    "                'cleaning_fee', 'extra_people', 'security_deposit', \n",
    "                'minimum_nights', 'maximum_nights', \n",
    "                'availability_30', 'availability_365',\n",
    "                'number_of_reviews', 'review_scores_rating',\n",
    "                'amenities_score', 'neighbourhood_listing_total']  "
   ]
  },
  {
   "cell_type": "code",
   "execution_count": 140,
   "metadata": {},
   "outputs": [
    {
     "name": "stdout",
     "output_type": "stream",
     "text": [
      "Train set: (15771, 25)\n",
      "Test set: (6760, 25)\n"
     ]
    }
   ],
   "source": [
    "from sklearn.model_selection import train_test_split\n",
    "train_set, test_set = train_test_split(listings, test_size=0.3, random_state=100)\n",
    "print('Train set:', train_set.shape)\n",
    "print('Test set:', test_set.shape)"
   ]
  },
  {
   "cell_type": "code",
   "execution_count": 141,
   "metadata": {},
   "outputs": [],
   "source": [
    "X_train = train_set.loc[:, train_set.columns != 'price']\n",
    "y_train = train_set['price']\n",
    "X_test = test_set.loc[:, test_set.columns != 'price']\n",
    "y_test = test_set['price']"
   ]
  },
  {
   "cell_type": "code",
   "execution_count": 142,
   "metadata": {},
   "outputs": [],
   "source": [
    "# Create a pipeline for numerical features\n",
    "num_pipeline = Pipeline([\n",
    "        ('imputer', SimpleImputer(strategy=\"median\")),\n",
    "        ('std_scaler', StandardScaler()),\n",
    "    ])\n",
    "\n",
    "# Create a pipeline that only one hot encodes categorical features\n",
    "full_pipeline = ColumnTransformer([\n",
    "        (\"cat\", OneHotEncoder(), cat_features),\n",
    "        (\"num\", num_pipeline, num_features)\n",
    "    ])"
   ]
  },
  {
   "cell_type": "code",
   "execution_count": 143,
   "metadata": {},
   "outputs": [
    {
     "name": "stdout",
     "output_type": "stream",
     "text": [
      "Train set:  (15771, 47)\n"
     ]
    }
   ],
   "source": [
    "# Create the final input arrays for modeling\n",
    "\n",
    "X_train = full_pipeline.fit_transform(X_train)\n",
    "print('Train set: ', X_train.shape)\n"
   ]
  },
  {
   "cell_type": "code",
   "execution_count": 144,
   "metadata": {},
   "outputs": [
    {
     "name": "stdout",
     "output_type": "stream",
     "text": [
      "Test set:  (6760, 47)\n"
     ]
    }
   ],
   "source": [
    "X_test = full_pipeline.transform(X_test)\n",
    "print('Test set: ', X_test.shape)"
   ]
  },
  {
   "cell_type": "code",
   "execution_count": 145,
   "metadata": {},
   "outputs": [
    {
     "data": {
      "image/png": "[encoded data removed]",
      "text/plain": [
       "<Figure size 432x288 with 1 Axes>"
      ]
     },
     "metadata": {
      "needs_background": "light"
     },
     "output_type": "display_data"
    }
   ],
   "source": [
    "#Fitting the PCA algorithm with our Data\n",
    "pca_g = PCA().fit(X_train)\n",
    "#Plotting the Cumulative Summation of the Explained Variance\n",
    "plt.figure()\n",
    "plt.plot(np.cumsum(pca_g.explained_variance_ratio_))\n",
    "plt.xlabel('Number of Components')\n",
    "plt.ylabel('Variance (%)')\n",
    "plt.title('PCA Explained Variance')\n",
    "plt.show()"
   ]
  },
  {
   "cell_type": "code",
   "execution_count": 146,
   "metadata": {},
   "outputs": [],
   "source": [
    "pca = PCA(n_components=0.95)\n",
    "X_train_reduced = pca.fit_transform(X_train)"
   ]
  },
  {
   "cell_type": "code",
   "execution_count": 147,
   "metadata": {
    "scrolled": true
   },
   "outputs": [
    {
     "data": {
      "text/plain": [
       "23"
      ]
     },
     "execution_count": 147,
     "metadata": {},
     "output_type": "execute_result"
    }
   ],
   "source": [
    "pca.n_components_"
   ]
  },
  {
   "cell_type": "code",
   "execution_count": 148,
   "metadata": {},
   "outputs": [],
   "source": [
    "# Recalculate dataset using PCA model inverse transformation\n",
    "X_reduced_inv = pca.inverse_transform(X_train_reduced)"
   ]
  },
  {
   "cell_type": "code",
   "execution_count": 149,
   "metadata": {},
   "outputs": [
    {
     "data": {
      "text/plain": [
       "0.021363482419692305"
      ]
     },
     "execution_count": 149,
     "metadata": {},
     "output_type": "execute_result"
    }
   ],
   "source": [
    "# compute reconstruction loss\n",
    "loss = ((X_train - X_reduced_inv) ** 2).mean()\n",
    "loss"
   ]
  },
  {
   "cell_type": "code",
   "execution_count": 150,
   "metadata": {},
   "outputs": [
    {
     "data": {
      "text/plain": [
       "0.04784634590447212"
      ]
     },
     "execution_count": 150,
     "metadata": {},
     "output_type": "execute_result"
    }
   ],
   "source": [
    "# we lost about 4.78% of the variance:\n",
    "1 - pca.explained_variance_ratio_.sum()"
   ]
  },
  {
   "cell_type": "code",
   "execution_count": 151,
   "metadata": {},
   "outputs": [],
   "source": [
    "X_test_reduced = pca.transform(X_test)"
   ]
  },
  {
   "cell_type": "markdown",
   "metadata": {},
   "source": [
    "Model Training"
   ]
  },
  {
   "cell_type": "code",
   "execution_count": 211,
   "metadata": {},
   "outputs": [],
   "source": [
    "from sklearn.linear_model import LinearRegression\n",
    "from sklearn.linear_model import Lasso\n",
    "from sklearn.linear_model import Ridge\n",
    "from sklearn.ensemble import RandomForestRegressor\n",
    "from sklearn.linear_model import ElasticNet\n",
    "from sklearn.svm import SVR\n",
    "from math import sqrt\n",
    "from sklearn.metrics import mean_squared_error\n",
    "from sklearn.metrics import mean_absolute_error\n",
    "from sklearn.metrics import r2_score\n",
    "from sklearn.model_selection import cross_val_score\n",
    "from sklearn.model_selection import GridSearchCV"
   ]
  },
  {
   "cell_type": "code",
   "execution_count": null,
   "metadata": {},
   "outputs": [],
   "source": []
  },
  {
   "cell_type": "code",
   "execution_count": 153,
   "metadata": {},
   "outputs": [],
   "source": [
    "def calculate_cross_validation(model, X_train, y_train):\n",
    "        score = cross_val_score(model, X_train, y_train, scoring=\"neg_mean_squared_error\", cv=5)\n",
    "        rmse_score = np.sqrt(-score)\n",
    "        print(\"Cross Validation Score: \" + str(rmse_score))\n",
    "        print(\"Mean: \" + str(rmse_score.mean()))\n",
    "        print(\"Std Deviation: \" + str(rmse_score.std()) )"
   ]
  },
  {
   "cell_type": "code",
   "execution_count": 154,
   "metadata": {},
   "outputs": [],
   "source": [
    "def evaluate_model(model, X_test_param, y_test_param):\n",
    "    print(model.__class__.__name__)\n",
    "    y_predict = model.predict(X_test_param)\n",
    "    print(\"MAE: \" + str(mean_absolute_error(y_test_param, y_predict)))\n",
    "    RMSE = np.sqrt(mean_squared_error(y_test_param, y_predict))\n",
    "    print(\"RMSE: \" + str(RMSE)) \n",
    "    print(\"R2: \" + str(r2_score(y_test_param, y_predict)))\n",
    "  #  calculate_cross_validation(model, X_train_param, y_train_param)\n",
    "    print(\"---------\")"
   ]
  },
  {
   "cell_type": "code",
   "execution_count": 208,
   "metadata": {},
   "outputs": [],
   "source": [
    "def init_models():\n",
    "    return [LinearRegression(),\n",
    "            Lasso(),\n",
    "            Ridge(),\n",
    "            RandomForestRegressor(n_estimators=100),\n",
    "            ElasticNet(),\n",
    "            SVR(gamma='auto'),\n",
    "            SVR(kernel=\"poly\", degree=2)]\n"
   ]
  },
  {
   "cell_type": "code",
   "execution_count": null,
   "metadata": {},
   "outputs": [],
   "source": []
  },
  {
   "cell_type": "code",
   "execution_count": 209,
   "metadata": {},
   "outputs": [],
   "source": [
    "models = init_models()"
   ]
  },
  {
   "cell_type": "code",
   "execution_count": 210,
   "metadata": {
    "scrolled": false
   },
   "outputs": [
    {
     "name": "stdout",
     "output_type": "stream",
     "text": [
      "LinearRegression\n",
      "MAE: 61.543634523614415\n",
      "RMSE: 205.25456653358012\n",
      "R2: 0.14533092522452562\n",
      "---------\n",
      "Lasso\n",
      "MAE: 60.504075550520476\n",
      "RMSE: 205.16649447531407\n",
      "R2: 0.1460642225791836\n",
      "---------\n",
      "Ridge\n",
      "MAE: 61.54251731851449\n",
      "RMSE: 205.2543720313253\n",
      "R2: 0.14533254501780202\n",
      "---------\n",
      "RandomForestRegressor\n",
      "MAE: 62.310442307692306\n",
      "RMSE: 218.88320761739283\n",
      "R2: 0.02806499830597975\n",
      "---------\n",
      "ElasticNet\n",
      "MAE: 59.49976446455849\n",
      "RMSE: 205.34987651652372\n",
      "R2: 0.14453700956217208\n",
      "---------\n",
      "SVR\n",
      "MAE: 53.791432900013255\n",
      "RMSE: 212.07172756148984\n",
      "R2: 0.08761553520038479\n",
      "---------\n"
     ]
    },
    {
     "name": "stderr",
     "output_type": "stream",
     "text": [
      "C:\\ProgramData\\Anaconda3\\lib\\site-packages\\sklearn\\svm\\base.py:193: FutureWarning: The default value of gamma will change from 'auto' to 'scale' in version 0.22 to account better for unscaled features. Set gamma explicitly to 'auto' or 'scale' to avoid this warning.\n",
      "  \"avoid this warning.\", FutureWarning)\n"
     ]
    },
    {
     "name": "stdout",
     "output_type": "stream",
     "text": [
      "SVR\n",
      "MAE: 62.39364908007332\n",
      "RMSE: 215.1652062745396\n",
      "R2: 0.060803594205033895\n",
      "---------\n"
     ]
    }
   ],
   "source": [
    "for m in models:\n",
    "    m.fit(X_train_reduced, y_train)\n",
    "    evaluate_model(m, X_test_reduced, y_test)\n",
    "    "
   ]
  },
  {
   "cell_type": "code",
   "execution_count": 212,
   "metadata": {},
   "outputs": [
    {
     "data": {
      "text/plain": [
       "GridSearchCV(cv=5, error_score='raise-deprecating',\n",
       "             estimator=ElasticNet(alpha=1.0, copy_X=True, fit_intercept=True,\n",
       "                                  l1_ratio=0.5, max_iter=30000, normalize=False,\n",
       "                                  positive=False, precompute=False,\n",
       "                                  random_state=None, selection='cyclic',\n",
       "                                  tol=0.1, warm_start=False),\n",
       "             iid='warn', n_jobs=None,\n",
       "             param_grid=[{'alpha': [0.001, 0.01, 0.1, 1, 10, 100, 1000, 1000],\n",
       "                          'l1_ratio': [0.2, 0.5, 0.8]}],\n",
       "             pre_dispatch='2*n_jobs', refit=True, return_train_score=False,\n",
       "             scoring='neg_mean_squared_error', verbose=0)"
      ]
     },
     "execution_count": 212,
     "metadata": {},
     "output_type": "execute_result"
    }
   ],
   "source": [
    "# Grid search for Elastic Net\n",
    "param_grid = [{'alpha': [0.001,0.01,0.1,1,10,100,1000,1000],\n",
    "               'l1_ratio': [0.2, 0.5, 0.8]}]\n",
    "gs_eln = GridSearchCV(ElasticNet(max_iter=30000, tol=0.1), param_grid, cv=5, scoring='neg_mean_squared_error')\n",
    "gs_eln.fit(X_train, y_train)\n"
   ]
  },
  {
   "cell_type": "code",
   "execution_count": 213,
   "metadata": {},
   "outputs": [
    {
     "name": "stdout",
     "output_type": "stream",
     "text": [
      "{'alpha': 0.001, 'l1_ratio': 0.2}\n",
      "252.0601968055188\n"
     ]
    }
   ],
   "source": [
    "print(gs_eln.best_params_)\n",
    "print(np.sqrt(-gs_eln.best_score_))"
   ]
  },
  {
   "cell_type": "code",
   "execution_count": 215,
   "metadata": {},
   "outputs": [
    {
     "name": "stdout",
     "output_type": "stream",
     "text": [
      "RMSE: 204.69533397077473\n",
      "MAE: 60.85194900934445\n"
     ]
    }
   ],
   "source": [
    "# test on test set\n",
    "final_model = gs_eln.best_estimator_\n",
    "y_te_pred = final_model.predict(X_test)\n",
    "\n",
    "final_mse = mean_squared_error(y_test, y_te_pred)\n",
    "final_rmse = np.sqrt(final_mse)\n",
    "print(\"RMSE: \" + str(final_rmse))\n",
    "print(\"MAE: \" + str(mean_absolute_error(y_test, y_te_pred)))"
   ]
  },
  {
   "cell_type": "markdown",
   "metadata": {},
   "source": [
    "# Neural Networks"
   ]
  },
  {
   "cell_type": "code",
   "execution_count": 171,
   "metadata": {},
   "outputs": [
    {
     "data": {
      "text/plain": [
       "(15771, 23)"
      ]
     },
     "execution_count": 171,
     "metadata": {},
     "output_type": "execute_result"
    }
   ],
   "source": [
    "pd.DataFrame(data = X_train_reduced).shape"
   ]
  },
  {
   "cell_type": "code",
   "execution_count": 159,
   "metadata": {},
   "outputs": [],
   "source": [
    "import tensorflow as tf\n",
    "\n",
    "from tensorflow import keras\n",
    "from tensorflow.keras import layers"
   ]
  },
  {
   "cell_type": "code",
   "execution_count": null,
   "metadata": {},
   "outputs": [],
   "source": []
  },
  {
   "cell_type": "code",
   "execution_count": 201,
   "metadata": {},
   "outputs": [],
   "source": [
    "model = tf.keras.models.Sequential([\n",
    "  tf.keras.layers.Flatten(input_shape=[23,]),\n",
    "  tf.keras.layers.Dense(25, activation='relu'),\n",
    "  tf.keras.layers.Dropout(0.2),\n",
    "  tf.keras.layers.Dense(12, activation='relu'),\n",
    "  tf.keras.layers.Dropout(0.2),\n",
    "  tf.keras.layers.Dense(1)\n",
    "])\n",
    "\n",
    "model.compile(loss=\"mse\", optimizer=\"nadam\", metrics=['mae'])\n"
   ]
  },
  {
   "cell_type": "code",
   "execution_count": 202,
   "metadata": {},
   "outputs": [],
   "source": [
    "history = model.fit(\n",
    "  X_train_reduced, y_train,\n",
    "  epochs=100, validation_split = 0.2, verbose=0)"
   ]
  },
  {
   "cell_type": "code",
   "execution_count": 203,
   "metadata": {},
   "outputs": [
    {
     "name": "stdout",
     "output_type": "stream",
     "text": [
      "6760/6760 [==============================] - 0s 28us/sample - loss: 41333.4134 - mae: 57.0364\n"
     ]
    },
    {
     "data": {
      "text/plain": [
       "[41333.41336388221, 57.03645]"
      ]
     },
     "execution_count": 203,
     "metadata": {},
     "output_type": "execute_result"
    }
   ],
   "source": [
    "model.evaluate(X_test_reduced, y_test)"
   ]
  },
  {
   "cell_type": "code",
   "execution_count": 204,
   "metadata": {},
   "outputs": [
    {
     "name": "stdout",
     "output_type": "stream",
     "text": [
      "dict_keys(['loss', 'mae', 'val_loss', 'val_mae'])\n"
     ]
    },
    {
     "data": {
      "image/png": "[encoded data removed]",
      "text/plain": [
       "<Figure size 432x288 with 1 Axes>"
      ]
     },
     "metadata": {
      "needs_background": "light"
     },
     "output_type": "display_data"
    }
   ],
   "source": [
    "print(history.history.keys())\n",
    "# \"Loss\"\n",
    "plt.plot(history.history['loss'])\n",
    "plt.plot(history.history['val_loss'])\n",
    "plt.title('model loss')\n",
    "plt.ylabel('loss')\n",
    "plt.xlabel('epoch')\n",
    "plt.legend(['train', 'validation'], loc='upper left')\n",
    "plt.show()"
   ]
  },
  {
   "cell_type": "code",
   "execution_count": null,
   "metadata": {},
   "outputs": [],
   "source": []
  }
 ],
 "metadata": {
  "kernelspec": {
   "display_name": "Python 3",
   "language": "python",
   "name": "python3"
  },
  "language_info": {
   "codemirror_mode": {
    "name": "ipython",
    "version": 3
   },
   "file_extension": ".py",
   "mimetype": "text/x-python",
   "name": "python",
   "nbconvert_exporter": "python",
   "pygments_lexer": "ipython3",
   "version": "3.7.4"
  }
 },
 "nbformat": 4,
 "nbformat_minor": 2
}
